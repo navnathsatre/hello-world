{
 "cells": [
  {
   "cell_type": "code",
   "execution_count": 15,
   "metadata": {},
   "outputs": [
    {
     "data": {
      "text/plain": [
       "'D:\\\\python'"
      ]
     },
     "execution_count": 15,
     "metadata": {},
     "output_type": "execute_result"
    }
   ],
   "source": [
    "import os\n",
    "os.getcwd()"
   ]
  },
  {
   "cell_type": "code",
   "execution_count": 16,
   "metadata": {},
   "outputs": [],
   "source": [
    "os.chdir('D:\\python')"
   ]
  },
  {
   "cell_type": "code",
   "execution_count": 14,
   "metadata": {
    "scrolled": true
   },
   "outputs": [
    {
     "ename": "AttributeError",
     "evalue": "module 'os' has no attribute 'cwd'",
     "output_type": "error",
     "traceback": [
      "\u001b[1;31m---------------------------------------------------------------------------\u001b[0m",
      "\u001b[1;31mAttributeError\u001b[0m                            Traceback (most recent call last)",
      "\u001b[1;32m<ipython-input-14-e5f28aadf8d0>\u001b[0m in \u001b[0;36m<module>\u001b[1;34m\u001b[0m\n\u001b[1;32m----> 1\u001b[1;33m \u001b[0mos\u001b[0m\u001b[1;33m.\u001b[0m\u001b[0mcwd\u001b[0m\u001b[1;33m(\u001b[0m\u001b[1;33m)\u001b[0m\u001b[1;33m\u001b[0m\u001b[1;33m\u001b[0m\u001b[0m\n\u001b[0m",
      "\u001b[1;31mAttributeError\u001b[0m: module 'os' has no attribute 'cwd'"
     ]
    }
   ],
   "source": []
  },
  {
   "cell_type": "code",
   "execution_count": 17,
   "metadata": {},
   "outputs": [
    {
     "name": "stdout",
     "output_type": "stream",
     "text": [
      "Enter the value for num1: 5\n",
      "Enter the value for num2: 9\n",
      "addition of num1 and num2 is:- 14\n",
      "multiplication of num1 and num2 is:- 45\n",
      "substraction of num1 and num2 is:- -4\n",
      "power of num1 and num2 is:- 1953125\n",
      "division of num1 and num2 is:-0.55556\n",
      "addition of two no. is 14  multiplication of two no. is 45 substraction of two no. is -4 division is 0.5555555555555556 power is1953125\n"
     ]
    }
   ],
   "source": [
    "num1=int(input(\"Enter the value for num1: \"))\n",
    "num2=int(input(\"Enter the value for num2: \"))\n",
    "#num1=568\n",
    "#num2=64\n",
    "add=num1+num2\n",
    "multi=num1*num2\n",
    "sub=num1-num2\n",
    "div=num1/num2\n",
    "pow=num1**num2\n",
    "print(\"addition of num1 and num2 is:-\",add)\n",
    "print(\"multiplication of num1 and num2 is:-\",multi)\n",
    "print(\"substraction of num1 and num2 is:-\",sub)\n",
    "print(\"power of num1 and num2 is:-\",pow)\n",
    "print(\"division of num1 and num2 is:-%.5f\"%(div))\n",
    "print(f\"addition of two no. is {add}  multiplication of two no. is {multi} substraction of two no. is {sub} division is {div} power is{pow}\")\n"
   ]
  },
  {
   "cell_type": "code",
   "execution_count": null,
   "metadata": {},
   "outputs": [],
   "source": []
  }
 ],
 "metadata": {
  "kernelspec": {
   "display_name": "Python 3",
   "language": "python",
   "name": "python3"
  },
  "language_info": {
   "codemirror_mode": {
    "name": "ipython",
    "version": 3
   },
   "file_extension": ".py",
   "mimetype": "text/x-python",
   "name": "python",
   "nbconvert_exporter": "python",
   "pygments_lexer": "ipython3",
   "version": "3.8.5"
  }
 },
 "nbformat": 4,
 "nbformat_minor": 4
}
